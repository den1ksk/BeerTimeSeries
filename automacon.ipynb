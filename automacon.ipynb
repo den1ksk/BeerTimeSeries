{
 "cells": [
  {
   "cell_type": "markdown",
   "id": "00eed3aa-cade-4bbc-b558-eaa9447e2471",
   "metadata": {},
   "source": [
    "# Импорт необходимых библиотек"
   ]
  },
  {
   "cell_type": "code",
   "execution_count": 1,
   "id": "b6dbb6a9-d284-4ac8-83ac-89b21fef9fb1",
   "metadata": {},
   "outputs": [],
   "source": [
    "import pandas as pd \n",
    "import numpy as np\n",
    "import matplotlib.pyplot as plt\n",
    "import seaborn as sns \n",
    "import xgboost as xgb\n",
    "import statsmodels.api as sm\n",
    "import torch\n",
    "import torch.nn as nn\n",
    "import torch.optim as optim\n",
    "from sklearn.model_selection import train_test_split\n",
    "from sklearn.preprocessing import StandardScaler\n",
    "from sklearn.metrics import mean_absolute_error, mean_squared_error, r2_score\n",
    "from autogluon.tabular import TabularPredictor\n",
    "from prophet import Prophet\n",
    "from torch.utils.data import DataLoader, TensorDataset\n",
    "import warnings \n",
    "warnings.filterwarnings(\"ignore\")"
   ]
  },
  {
   "cell_type": "markdown",
   "id": "04fda556-fa62-4532-9c40-4dfe4a9d9780",
   "metadata": {},
   "source": [
    "# Данные демографии и магазина"
   ]
  },
  {
   "cell_type": "code",
   "execution_count": 2,
   "id": "846cd2e9-512a-4b96-9bcc-977d6ab1ec29",
   "metadata": {},
   "outputs": [],
   "source": [
    "demographic = pd.read_parquet('data/demographic_data.parquet')"
   ]
  },
  {
   "cell_type": "code",
   "execution_count": 3,
   "id": "f1fb1581-3a8a-437b-ab74-8ec15cf62f6b",
   "metadata": {},
   "outputs": [
    {
     "data": {
      "text/html": [
       "<div>\n",
       "<style scoped>\n",
       "    .dataframe tbody tr th:only-of-type {\n",
       "        vertical-align: middle;\n",
       "    }\n",
       "\n",
       "    .dataframe tbody tr th {\n",
       "        vertical-align: top;\n",
       "    }\n",
       "\n",
       "    .dataframe thead th {\n",
       "        text-align: right;\n",
       "    }\n",
       "</style>\n",
       "<table border=\"1\" class=\"dataframe\">\n",
       "  <thead>\n",
       "    <tr style=\"text-align: right;\">\n",
       "      <th></th>\n",
       "      <th>store</th>\n",
       "      <th>age60</th>\n",
       "      <th>age9</th>\n",
       "      <th>educ</th>\n",
       "      <th>ethnic</th>\n",
       "      <th>income</th>\n",
       "      <th>hhlarge</th>\n",
       "      <th>workwom</th>\n",
       "      <th>hval150</th>\n",
       "      <th>sstrdist</th>\n",
       "      <th>sstrvol</th>\n",
       "      <th>cpdist5</th>\n",
       "      <th>cpwvol5</th>\n",
       "    </tr>\n",
       "  </thead>\n",
       "  <tbody>\n",
       "    <tr>\n",
       "      <th>1</th>\n",
       "      <td>2.0</td>\n",
       "      <td>0.232865</td>\n",
       "      <td>0.117509</td>\n",
       "      <td>0.248935</td>\n",
       "      <td>0.114280</td>\n",
       "      <td>10.553205</td>\n",
       "      <td>0.103953</td>\n",
       "      <td>0.303585</td>\n",
       "      <td>0.463887</td>\n",
       "      <td>2.110122</td>\n",
       "      <td>1.142857</td>\n",
       "      <td>1.927280</td>\n",
       "      <td>0.376927</td>\n",
       "    </tr>\n",
       "    <tr>\n",
       "      <th>2</th>\n",
       "      <td>4.0</td>\n",
       "      <td>0.262030</td>\n",
       "      <td>0.095090</td>\n",
       "      <td>0.220789</td>\n",
       "      <td>0.062161</td>\n",
       "      <td>10.646972</td>\n",
       "      <td>0.088123</td>\n",
       "      <td>0.362122</td>\n",
       "      <td>0.522236</td>\n",
       "      <td>2.373200</td>\n",
       "      <td>1.000000</td>\n",
       "      <td>1.104470</td>\n",
       "      <td>0.772489</td>\n",
       "    </tr>\n",
       "    <tr>\n",
       "      <th>3</th>\n",
       "      <td>5.0</td>\n",
       "      <td>0.117368</td>\n",
       "      <td>0.141433</td>\n",
       "      <td>0.321226</td>\n",
       "      <td>0.053875</td>\n",
       "      <td>10.922371</td>\n",
       "      <td>0.103092</td>\n",
       "      <td>0.410568</td>\n",
       "      <td>0.535883</td>\n",
       "      <td>3.801998</td>\n",
       "      <td>0.681818</td>\n",
       "      <td>1.600573</td>\n",
       "      <td>0.736307</td>\n",
       "    </tr>\n",
       "    <tr>\n",
       "      <th>4</th>\n",
       "      <td>8.0</td>\n",
       "      <td>0.252394</td>\n",
       "      <td>0.123155</td>\n",
       "      <td>0.095173</td>\n",
       "      <td>0.035243</td>\n",
       "      <td>10.597010</td>\n",
       "      <td>0.131750</td>\n",
       "      <td>0.283075</td>\n",
       "      <td>0.054227</td>\n",
       "      <td>2.636333</td>\n",
       "      <td>1.500000</td>\n",
       "      <td>2.905384</td>\n",
       "      <td>0.641016</td>\n",
       "    </tr>\n",
       "    <tr>\n",
       "      <th>5</th>\n",
       "      <td>9.0</td>\n",
       "      <td>0.269119</td>\n",
       "      <td>0.103503</td>\n",
       "      <td>0.222172</td>\n",
       "      <td>0.032619</td>\n",
       "      <td>10.787151</td>\n",
       "      <td>0.096830</td>\n",
       "      <td>0.358995</td>\n",
       "      <td>0.505747</td>\n",
       "      <td>1.103279</td>\n",
       "      <td>0.666667</td>\n",
       "      <td>1.820474</td>\n",
       "      <td>0.441268</td>\n",
       "    </tr>\n",
       "    <tr>\n",
       "      <th>...</th>\n",
       "      <td>...</td>\n",
       "      <td>...</td>\n",
       "      <td>...</td>\n",
       "      <td>...</td>\n",
       "      <td>...</td>\n",
       "      <td>...</td>\n",
       "      <td>...</td>\n",
       "      <td>...</td>\n",
       "      <td>...</td>\n",
       "      <td>...</td>\n",
       "      <td>...</td>\n",
       "      <td>...</td>\n",
       "      <td>...</td>\n",
       "    </tr>\n",
       "    <tr>\n",
       "      <th>103</th>\n",
       "      <td>308.0</td>\n",
       "      <td>0.235498</td>\n",
       "      <td>0.120519</td>\n",
       "      <td>0.159787</td>\n",
       "      <td>0.185974</td>\n",
       "      <td>10.439542</td>\n",
       "      <td>0.113268</td>\n",
       "      <td>0.316430</td>\n",
       "      <td>0.290223</td>\n",
       "      <td>NaN</td>\n",
       "      <td>NaN</td>\n",
       "      <td>NaN</td>\n",
       "      <td>NaN</td>\n",
       "    </tr>\n",
       "    <tr>\n",
       "      <th>104</th>\n",
       "      <td>309.0</td>\n",
       "      <td>0.067192</td>\n",
       "      <td>0.200156</td>\n",
       "      <td>0.278103</td>\n",
       "      <td>0.204785</td>\n",
       "      <td>10.757754</td>\n",
       "      <td>0.152418</td>\n",
       "      <td>0.392109</td>\n",
       "      <td>0.406664</td>\n",
       "      <td>NaN</td>\n",
       "      <td>NaN</td>\n",
       "      <td>NaN</td>\n",
       "      <td>NaN</td>\n",
       "    </tr>\n",
       "    <tr>\n",
       "      <th>105</th>\n",
       "      <td>310.0</td>\n",
       "      <td>0.177015</td>\n",
       "      <td>0.134641</td>\n",
       "      <td>0.283289</td>\n",
       "      <td>0.045067</td>\n",
       "      <td>10.861496</td>\n",
       "      <td>0.100310</td>\n",
       "      <td>0.421429</td>\n",
       "      <td>0.594775</td>\n",
       "      <td>NaN</td>\n",
       "      <td>NaN</td>\n",
       "      <td>NaN</td>\n",
       "      <td>NaN</td>\n",
       "    </tr>\n",
       "    <tr>\n",
       "      <th>106</th>\n",
       "      <td>312.0</td>\n",
       "      <td>0.161864</td>\n",
       "      <td>0.151115</td>\n",
       "      <td>0.122721</td>\n",
       "      <td>0.195317</td>\n",
       "      <td>10.500509</td>\n",
       "      <td>0.139724</td>\n",
       "      <td>0.309058</td>\n",
       "      <td>0.096444</td>\n",
       "      <td>NaN</td>\n",
       "      <td>NaN</td>\n",
       "      <td>NaN</td>\n",
       "      <td>NaN</td>\n",
       "    </tr>\n",
       "    <tr>\n",
       "      <th>107</th>\n",
       "      <td>315.0</td>\n",
       "      <td>0.159528</td>\n",
       "      <td>0.142923</td>\n",
       "      <td>0.060124</td>\n",
       "      <td>0.107192</td>\n",
       "      <td>10.512682</td>\n",
       "      <td>0.129230</td>\n",
       "      <td>0.303757</td>\n",
       "      <td>0.040500</td>\n",
       "      <td>NaN</td>\n",
       "      <td>NaN</td>\n",
       "      <td>NaN</td>\n",
       "      <td>NaN</td>\n",
       "    </tr>\n",
       "  </tbody>\n",
       "</table>\n",
       "<p>107 rows × 13 columns</p>\n",
       "</div>"
      ],
      "text/plain": [
       "     store     age60      age9      educ    ethnic     income   hhlarge  \\\n",
       "1      2.0  0.232865  0.117509  0.248935  0.114280  10.553205  0.103953   \n",
       "2      4.0  0.262030  0.095090  0.220789  0.062161  10.646972  0.088123   \n",
       "3      5.0  0.117368  0.141433  0.321226  0.053875  10.922371  0.103092   \n",
       "4      8.0  0.252394  0.123155  0.095173  0.035243  10.597010  0.131750   \n",
       "5      9.0  0.269119  0.103503  0.222172  0.032619  10.787151  0.096830   \n",
       "..     ...       ...       ...       ...       ...        ...       ...   \n",
       "103  308.0  0.235498  0.120519  0.159787  0.185974  10.439542  0.113268   \n",
       "104  309.0  0.067192  0.200156  0.278103  0.204785  10.757754  0.152418   \n",
       "105  310.0  0.177015  0.134641  0.283289  0.045067  10.861496  0.100310   \n",
       "106  312.0  0.161864  0.151115  0.122721  0.195317  10.500509  0.139724   \n",
       "107  315.0  0.159528  0.142923  0.060124  0.107192  10.512682  0.129230   \n",
       "\n",
       "      workwom   hval150  sstrdist   sstrvol   cpdist5   cpwvol5  \n",
       "1    0.303585  0.463887  2.110122  1.142857  1.927280  0.376927  \n",
       "2    0.362122  0.522236  2.373200  1.000000  1.104470  0.772489  \n",
       "3    0.410568  0.535883  3.801998  0.681818  1.600573  0.736307  \n",
       "4    0.283075  0.054227  2.636333  1.500000  2.905384  0.641016  \n",
       "5    0.358995  0.505747  1.103279  0.666667  1.820474  0.441268  \n",
       "..        ...       ...       ...       ...       ...       ...  \n",
       "103  0.316430  0.290223       NaN       NaN       NaN       NaN  \n",
       "104  0.392109  0.406664       NaN       NaN       NaN       NaN  \n",
       "105  0.421429  0.594775       NaN       NaN       NaN       NaN  \n",
       "106  0.309058  0.096444       NaN       NaN       NaN       NaN  \n",
       "107  0.303757  0.040500       NaN       NaN       NaN       NaN  \n",
       "\n",
       "[107 rows x 13 columns]"
      ]
     },
     "execution_count": 3,
     "metadata": {},
     "output_type": "execute_result"
    }
   ],
   "source": [
    "demographic"
   ]
  },
  {
   "cell_type": "markdown",
   "id": "196c7610-787c-4686-b649-a0e21628af9b",
   "metadata": {},
   "source": [
    "# Beer"
   ]
  },
  {
   "cell_type": "code",
   "execution_count": 4,
   "id": "8d0b6b78-ac9b-4bba-8955-b22a1e6155c0",
   "metadata": {},
   "outputs": [],
   "source": [
    "beer_sales = pd.read_parquet('data/beer_sales_data.parquet')\n",
    "beer_upc = pd.read_parquet('data/beer_upc.parquet')"
   ]
  },
  {
   "cell_type": "markdown",
   "id": "c7143754-21ff-4444-bd05-f77a53634f34",
   "metadata": {},
   "source": [
    "### Обьединение данных"
   ]
  },
  {
   "cell_type": "code",
   "execution_count": 5,
   "id": "262fefec-5594-4bef-b191-36892b361818",
   "metadata": {},
   "outputs": [],
   "source": [
    "beer_data = pd.merge(beer_sales, beer_upc, on='upc', how='left')\n",
    "beer = beer_data.merge(demographic, on='store', how='left')"
   ]
  },
  {
   "cell_type": "markdown",
   "id": "c2370208-3801-4c9c-b94f-9c9620f3c113",
   "metadata": {},
   "source": [
    "### Просмотр данных"
   ]
  },
  {
   "cell_type": "code",
   "execution_count": 6,
   "id": "6788f66f-7364-458a-a34e-ee95566a507b",
   "metadata": {},
   "outputs": [
    {
     "data": {
      "text/html": [
       "<div>\n",
       "<style scoped>\n",
       "    .dataframe tbody tr th:only-of-type {\n",
       "        vertical-align: middle;\n",
       "    }\n",
       "\n",
       "    .dataframe tbody tr th {\n",
       "        vertical-align: top;\n",
       "    }\n",
       "\n",
       "    .dataframe thead th {\n",
       "        text-align: right;\n",
       "    }\n",
       "</style>\n",
       "<table border=\"1\" class=\"dataframe\">\n",
       "  <thead>\n",
       "    <tr style=\"text-align: right;\">\n",
       "      <th></th>\n",
       "      <th>store</th>\n",
       "      <th>upc</th>\n",
       "      <th>week</th>\n",
       "      <th>move</th>\n",
       "      <th>qty</th>\n",
       "      <th>price</th>\n",
       "      <th>sale</th>\n",
       "      <th>com_code</th>\n",
       "      <th>descrip</th>\n",
       "      <th>size</th>\n",
       "      <th>...</th>\n",
       "      <th>educ</th>\n",
       "      <th>ethnic</th>\n",
       "      <th>income</th>\n",
       "      <th>hhlarge</th>\n",
       "      <th>workwom</th>\n",
       "      <th>hval150</th>\n",
       "      <th>sstrdist</th>\n",
       "      <th>sstrvol</th>\n",
       "      <th>cpdist5</th>\n",
       "      <th>cpwvol5</th>\n",
       "    </tr>\n",
       "  </thead>\n",
       "  <tbody>\n",
       "    <tr>\n",
       "      <th>0</th>\n",
       "      <td>2</td>\n",
       "      <td>294</td>\n",
       "      <td>298</td>\n",
       "      <td>11</td>\n",
       "      <td>1</td>\n",
       "      <td>2.62</td>\n",
       "      <td>None</td>\n",
       "      <td>27</td>\n",
       "      <td>BEER LIMIT</td>\n",
       "      <td>12/12O</td>\n",
       "      <td>...</td>\n",
       "      <td>0.248935</td>\n",
       "      <td>0.11428</td>\n",
       "      <td>10.553205</td>\n",
       "      <td>0.103953</td>\n",
       "      <td>0.303585</td>\n",
       "      <td>0.463887</td>\n",
       "      <td>2.110122</td>\n",
       "      <td>1.142857</td>\n",
       "      <td>1.92728</td>\n",
       "      <td>0.376927</td>\n",
       "    </tr>\n",
       "    <tr>\n",
       "      <th>1</th>\n",
       "      <td>2</td>\n",
       "      <td>294</td>\n",
       "      <td>299</td>\n",
       "      <td>9</td>\n",
       "      <td>1</td>\n",
       "      <td>2.51</td>\n",
       "      <td>None</td>\n",
       "      <td>27</td>\n",
       "      <td>BEER LIMIT</td>\n",
       "      <td>12/12O</td>\n",
       "      <td>...</td>\n",
       "      <td>0.248935</td>\n",
       "      <td>0.11428</td>\n",
       "      <td>10.553205</td>\n",
       "      <td>0.103953</td>\n",
       "      <td>0.303585</td>\n",
       "      <td>0.463887</td>\n",
       "      <td>2.110122</td>\n",
       "      <td>1.142857</td>\n",
       "      <td>1.92728</td>\n",
       "      <td>0.376927</td>\n",
       "    </tr>\n",
       "    <tr>\n",
       "      <th>2</th>\n",
       "      <td>2</td>\n",
       "      <td>294</td>\n",
       "      <td>300</td>\n",
       "      <td>6</td>\n",
       "      <td>1</td>\n",
       "      <td>2.49</td>\n",
       "      <td>None</td>\n",
       "      <td>27</td>\n",
       "      <td>BEER LIMIT</td>\n",
       "      <td>12/12O</td>\n",
       "      <td>...</td>\n",
       "      <td>0.248935</td>\n",
       "      <td>0.11428</td>\n",
       "      <td>10.553205</td>\n",
       "      <td>0.103953</td>\n",
       "      <td>0.303585</td>\n",
       "      <td>0.463887</td>\n",
       "      <td>2.110122</td>\n",
       "      <td>1.142857</td>\n",
       "      <td>1.92728</td>\n",
       "      <td>0.376927</td>\n",
       "    </tr>\n",
       "    <tr>\n",
       "      <th>3</th>\n",
       "      <td>2</td>\n",
       "      <td>294</td>\n",
       "      <td>301</td>\n",
       "      <td>5</td>\n",
       "      <td>1</td>\n",
       "      <td>2.99</td>\n",
       "      <td>None</td>\n",
       "      <td>27</td>\n",
       "      <td>BEER LIMIT</td>\n",
       "      <td>12/12O</td>\n",
       "      <td>...</td>\n",
       "      <td>0.248935</td>\n",
       "      <td>0.11428</td>\n",
       "      <td>10.553205</td>\n",
       "      <td>0.103953</td>\n",
       "      <td>0.303585</td>\n",
       "      <td>0.463887</td>\n",
       "      <td>2.110122</td>\n",
       "      <td>1.142857</td>\n",
       "      <td>1.92728</td>\n",
       "      <td>0.376927</td>\n",
       "    </tr>\n",
       "    <tr>\n",
       "      <th>4</th>\n",
       "      <td>2</td>\n",
       "      <td>294</td>\n",
       "      <td>302</td>\n",
       "      <td>1</td>\n",
       "      <td>1</td>\n",
       "      <td>2.49</td>\n",
       "      <td>None</td>\n",
       "      <td>27</td>\n",
       "      <td>BEER LIMIT</td>\n",
       "      <td>12/12O</td>\n",
       "      <td>...</td>\n",
       "      <td>0.248935</td>\n",
       "      <td>0.11428</td>\n",
       "      <td>10.553205</td>\n",
       "      <td>0.103953</td>\n",
       "      <td>0.303585</td>\n",
       "      <td>0.463887</td>\n",
       "      <td>2.110122</td>\n",
       "      <td>1.142857</td>\n",
       "      <td>1.92728</td>\n",
       "      <td>0.376927</td>\n",
       "    </tr>\n",
       "    <tr>\n",
       "      <th>5</th>\n",
       "      <td>2</td>\n",
       "      <td>294</td>\n",
       "      <td>303</td>\n",
       "      <td>0</td>\n",
       "      <td>1</td>\n",
       "      <td>0.00</td>\n",
       "      <td>None</td>\n",
       "      <td>27</td>\n",
       "      <td>BEER LIMIT</td>\n",
       "      <td>12/12O</td>\n",
       "      <td>...</td>\n",
       "      <td>0.248935</td>\n",
       "      <td>0.11428</td>\n",
       "      <td>10.553205</td>\n",
       "      <td>0.103953</td>\n",
       "      <td>0.303585</td>\n",
       "      <td>0.463887</td>\n",
       "      <td>2.110122</td>\n",
       "      <td>1.142857</td>\n",
       "      <td>1.92728</td>\n",
       "      <td>0.376927</td>\n",
       "    </tr>\n",
       "    <tr>\n",
       "      <th>6</th>\n",
       "      <td>2</td>\n",
       "      <td>294</td>\n",
       "      <td>304</td>\n",
       "      <td>1</td>\n",
       "      <td>1</td>\n",
       "      <td>4.99</td>\n",
       "      <td>None</td>\n",
       "      <td>27</td>\n",
       "      <td>BEER LIMIT</td>\n",
       "      <td>12/12O</td>\n",
       "      <td>...</td>\n",
       "      <td>0.248935</td>\n",
       "      <td>0.11428</td>\n",
       "      <td>10.553205</td>\n",
       "      <td>0.103953</td>\n",
       "      <td>0.303585</td>\n",
       "      <td>0.463887</td>\n",
       "      <td>2.110122</td>\n",
       "      <td>1.142857</td>\n",
       "      <td>1.92728</td>\n",
       "      <td>0.376927</td>\n",
       "    </tr>\n",
       "  </tbody>\n",
       "</table>\n",
       "<p>7 rows × 24 columns</p>\n",
       "</div>"
      ],
      "text/plain": [
       "   store  upc  week  move  qty  price  sale  com_code     descrip    size  \\\n",
       "0      2  294   298    11    1   2.62  None        27  BEER LIMIT  12/12O   \n",
       "1      2  294   299     9    1   2.51  None        27  BEER LIMIT  12/12O   \n",
       "2      2  294   300     6    1   2.49  None        27  BEER LIMIT  12/12O   \n",
       "3      2  294   301     5    1   2.99  None        27  BEER LIMIT  12/12O   \n",
       "4      2  294   302     1    1   2.49  None        27  BEER LIMIT  12/12O   \n",
       "5      2  294   303     0    1   0.00  None        27  BEER LIMIT  12/12O   \n",
       "6      2  294   304     1    1   4.99  None        27  BEER LIMIT  12/12O   \n",
       "\n",
       "   ...      educ   ethnic     income   hhlarge   workwom   hval150  sstrdist  \\\n",
       "0  ...  0.248935  0.11428  10.553205  0.103953  0.303585  0.463887  2.110122   \n",
       "1  ...  0.248935  0.11428  10.553205  0.103953  0.303585  0.463887  2.110122   \n",
       "2  ...  0.248935  0.11428  10.553205  0.103953  0.303585  0.463887  2.110122   \n",
       "3  ...  0.248935  0.11428  10.553205  0.103953  0.303585  0.463887  2.110122   \n",
       "4  ...  0.248935  0.11428  10.553205  0.103953  0.303585  0.463887  2.110122   \n",
       "5  ...  0.248935  0.11428  10.553205  0.103953  0.303585  0.463887  2.110122   \n",
       "6  ...  0.248935  0.11428  10.553205  0.103953  0.303585  0.463887  2.110122   \n",
       "\n",
       "    sstrvol  cpdist5   cpwvol5  \n",
       "0  1.142857  1.92728  0.376927  \n",
       "1  1.142857  1.92728  0.376927  \n",
       "2  1.142857  1.92728  0.376927  \n",
       "3  1.142857  1.92728  0.376927  \n",
       "4  1.142857  1.92728  0.376927  \n",
       "5  1.142857  1.92728  0.376927  \n",
       "6  1.142857  1.92728  0.376927  \n",
       "\n",
       "[7 rows x 24 columns]"
      ]
     },
     "execution_count": 6,
     "metadata": {},
     "output_type": "execute_result"
    }
   ],
   "source": [
    "beer.head(7)"
   ]
  },
  {
   "cell_type": "code",
   "execution_count": 7,
   "id": "53bc0d16-e4c9-4a83-9fd8-f39249c31fd5",
   "metadata": {},
   "outputs": [
    {
     "name": "stdout",
     "output_type": "stream",
     "text": [
      "<class 'pandas.core.frame.DataFrame'>\n",
      "RangeIndex: 3967720 entries, 0 to 3967719\n",
      "Data columns (total 24 columns):\n",
      " #   Column    Dtype  \n",
      "---  ------    -----  \n",
      " 0   store     int64  \n",
      " 1   upc       int64  \n",
      " 2   week      int64  \n",
      " 3   move      int64  \n",
      " 4   qty       int64  \n",
      " 5   price     float64\n",
      " 6   sale      object \n",
      " 7   com_code  int64  \n",
      " 8   descrip   object \n",
      " 9   size      object \n",
      " 10  case      int64  \n",
      " 11  nitem     int64  \n",
      " 12  age60     float32\n",
      " 13  age9      float32\n",
      " 14  educ      float32\n",
      " 15  ethnic    float32\n",
      " 16  income    float32\n",
      " 17  hhlarge   float32\n",
      " 18  workwom   float32\n",
      " 19  hval150   float32\n",
      " 20  sstrdist  float32\n",
      " 21  sstrvol   float32\n",
      " 22  cpdist5   float32\n",
      " 23  cpwvol5   float32\n",
      "dtypes: float32(12), float64(1), int64(8), object(3)\n",
      "memory usage: 544.9+ MB\n"
     ]
    }
   ],
   "source": [
    "beer.info()"
   ]
  },
  {
   "cell_type": "code",
   "execution_count": 8,
   "id": "cf2a1845-b6d3-43a5-9ba6-283cd7a4d642",
   "metadata": {},
   "outputs": [
    {
     "data": {
      "text/html": [
       "<div>\n",
       "<style scoped>\n",
       "    .dataframe tbody tr th:only-of-type {\n",
       "        vertical-align: middle;\n",
       "    }\n",
       "\n",
       "    .dataframe tbody tr th {\n",
       "        vertical-align: top;\n",
       "    }\n",
       "\n",
       "    .dataframe thead th {\n",
       "        text-align: right;\n",
       "    }\n",
       "</style>\n",
       "<table border=\"1\" class=\"dataframe\">\n",
       "  <thead>\n",
       "    <tr style=\"text-align: right;\">\n",
       "      <th></th>\n",
       "      <th>store</th>\n",
       "      <th>upc</th>\n",
       "      <th>week</th>\n",
       "      <th>move</th>\n",
       "      <th>qty</th>\n",
       "      <th>price</th>\n",
       "      <th>com_code</th>\n",
       "      <th>case</th>\n",
       "      <th>nitem</th>\n",
       "      <th>age60</th>\n",
       "      <th>...</th>\n",
       "      <th>educ</th>\n",
       "      <th>ethnic</th>\n",
       "      <th>income</th>\n",
       "      <th>hhlarge</th>\n",
       "      <th>workwom</th>\n",
       "      <th>hval150</th>\n",
       "      <th>sstrdist</th>\n",
       "      <th>sstrvol</th>\n",
       "      <th>cpdist5</th>\n",
       "      <th>cpwvol5</th>\n",
       "    </tr>\n",
       "  </thead>\n",
       "  <tbody>\n",
       "    <tr>\n",
       "      <th>count</th>\n",
       "      <td>3.967720e+06</td>\n",
       "      <td>3.967720e+06</td>\n",
       "      <td>3.967720e+06</td>\n",
       "      <td>3.967720e+06</td>\n",
       "      <td>3.967720e+06</td>\n",
       "      <td>3.967720e+06</td>\n",
       "      <td>3.967720e+06</td>\n",
       "      <td>3.967720e+06</td>\n",
       "      <td>3.967720e+06</td>\n",
       "      <td>3.738649e+06</td>\n",
       "      <td>...</td>\n",
       "      <td>3.738649e+06</td>\n",
       "      <td>3.738649e+06</td>\n",
       "      <td>3.738649e+06</td>\n",
       "      <td>3.738649e+06</td>\n",
       "      <td>3.738649e+06</td>\n",
       "      <td>3.738649e+06</td>\n",
       "      <td>3.738649e+06</td>\n",
       "      <td>3.738649e+06</td>\n",
       "      <td>3.738649e+06</td>\n",
       "      <td>3.738649e+06</td>\n",
       "    </tr>\n",
       "    <tr>\n",
       "      <th>mean</th>\n",
       "      <td>8.881704e+01</td>\n",
       "      <td>7.234429e+09</td>\n",
       "      <td>2.364477e+02</td>\n",
       "      <td>3.383864e+00</td>\n",
       "      <td>1.000011e+00</td>\n",
       "      <td>2.819041e+00</td>\n",
       "      <td>2.689510e+01</td>\n",
       "      <td>3.844397e+00</td>\n",
       "      <td>9.096410e+06</td>\n",
       "      <td>1.737367e-01</td>\n",
       "      <td>...</td>\n",
       "      <td>2.203140e-01</td>\n",
       "      <td>1.484588e-01</td>\n",
       "      <td>1.061433e+01</td>\n",
       "      <td>1.177069e-01</td>\n",
       "      <td>3.563791e-01</td>\n",
       "      <td>3.393292e-01</td>\n",
       "      <td>5.037027e+00</td>\n",
       "      <td>1.167110e+00</td>\n",
       "      <td>2.136872e+00</td>\n",
       "      <td>4.249844e-01</td>\n",
       "    </tr>\n",
       "    <tr>\n",
       "      <th>std</th>\n",
       "      <td>3.635469e+01</td>\n",
       "      <td>1.072429e+10</td>\n",
       "      <td>8.410145e+01</td>\n",
       "      <td>8.877261e+00</td>\n",
       "      <td>3.330071e-03</td>\n",
       "      <td>3.422010e+00</td>\n",
       "      <td>5.119450e-01</td>\n",
       "      <td>2.797815e+00</td>\n",
       "      <td>9.454292e+06</td>\n",
       "      <td>6.534513e-02</td>\n",
       "      <td>...</td>\n",
       "      <td>1.109482e-01</td>\n",
       "      <td>1.789707e-01</td>\n",
       "      <td>3.010606e-01</td>\n",
       "      <td>3.236447e-02</td>\n",
       "      <td>5.104252e-02</td>\n",
       "      <td>2.413650e-01</td>\n",
       "      <td>3.373427e+00</td>\n",
       "      <td>5.197779e-01</td>\n",
       "      <td>7.296672e-01</td>\n",
       "      <td>2.041200e-01</td>\n",
       "    </tr>\n",
       "    <tr>\n",
       "      <th>min</th>\n",
       "      <td>2.000000e+00</td>\n",
       "      <td>2.940000e+02</td>\n",
       "      <td>9.100000e+01</td>\n",
       "      <td>0.000000e+00</td>\n",
       "      <td>1.000000e+00</td>\n",
       "      <td>0.000000e+00</td>\n",
       "      <td>2.600000e+01</td>\n",
       "      <td>1.000000e+00</td>\n",
       "      <td>-2.684392e+08</td>\n",
       "      <td>5.805397e-02</td>\n",
       "      <td>...</td>\n",
       "      <td>4.955029e-02</td>\n",
       "      <td>2.424657e-02</td>\n",
       "      <td>9.867083e+00</td>\n",
       "      <td>1.350636e-02</td>\n",
       "      <td>2.444627e-01</td>\n",
       "      <td>2.509410e-03</td>\n",
       "      <td>1.320968e-01</td>\n",
       "      <td>4.000000e-01</td>\n",
       "      <td>7.725297e-01</td>\n",
       "      <td>9.456175e-02</td>\n",
       "    </tr>\n",
       "    <tr>\n",
       "      <th>25%</th>\n",
       "      <td>7.000000e+01</td>\n",
       "      <td>3.410016e+09</td>\n",
       "      <td>1.670000e+02</td>\n",
       "      <td>0.000000e+00</td>\n",
       "      <td>1.000000e+00</td>\n",
       "      <td>0.000000e+00</td>\n",
       "      <td>2.700000e+01</td>\n",
       "      <td>2.000000e+00</td>\n",
       "      <td>9.406600e+06</td>\n",
       "      <td>1.173680e-01</td>\n",
       "      <td>...</td>\n",
       "      <td>1.443101e-01</td>\n",
       "      <td>4.154243e-02</td>\n",
       "      <td>1.041439e+01</td>\n",
       "      <td>9.683047e-02</td>\n",
       "      <td>3.115727e-01</td>\n",
       "      <td>9.996325e-02</td>\n",
       "      <td>2.636333e+00</td>\n",
       "      <td>7.058824e-01</td>\n",
       "      <td>1.626192e+00</td>\n",
       "      <td>2.716730e-01</td>\n",
       "    </tr>\n",
       "    <tr>\n",
       "      <th>50%</th>\n",
       "      <td>9.700000e+01</td>\n",
       "      <td>7.199012e+09</td>\n",
       "      <td>2.360000e+02</td>\n",
       "      <td>0.000000e+00</td>\n",
       "      <td>1.000000e+00</td>\n",
       "      <td>0.000000e+00</td>\n",
       "      <td>2.700000e+01</td>\n",
       "      <td>4.000000e+00</td>\n",
       "      <td>9.412050e+06</td>\n",
       "      <td>1.706548e-01</td>\n",
       "      <td>...</td>\n",
       "      <td>2.195484e-01</td>\n",
       "      <td>7.396162e-02</td>\n",
       "      <td>1.064766e+01</td>\n",
       "      <td>1.136868e-01</td>\n",
       "      <td>3.589945e-01</td>\n",
       "      <td>3.461539e-01</td>\n",
       "      <td>4.235049e+00</td>\n",
       "      <td>1.090909e+00</td>\n",
       "      <td>2.007204e+00</td>\n",
       "      <td>3.832268e-01</td>\n",
       "    </tr>\n",
       "    <tr>\n",
       "      <th>75%</th>\n",
       "      <td>1.180000e+02</td>\n",
       "      <td>7.336078e+09</td>\n",
       "      <td>3.020000e+02</td>\n",
       "      <td>3.000000e+00</td>\n",
       "      <td>1.000000e+00</td>\n",
       "      <td>4.990000e+00</td>\n",
       "      <td>2.700000e+01</td>\n",
       "      <td>4.000000e+00</td>\n",
       "      <td>9.450300e+06</td>\n",
       "      <td>2.225343e-01</td>\n",
       "      <td>...</td>\n",
       "      <td>2.799520e-01</td>\n",
       "      <td>1.877609e-01</td>\n",
       "      <td>1.079696e+01</td>\n",
       "      <td>1.353408e-01</td>\n",
       "      <td>3.982512e-01</td>\n",
       "      <td>5.339496e-01</td>\n",
       "      <td>6.678130e+00</td>\n",
       "      <td>1.500000e+00</td>\n",
       "      <td>2.656879e+00</td>\n",
       "      <td>5.543523e-01</td>\n",
       "    </tr>\n",
       "    <tr>\n",
       "      <th>max</th>\n",
       "      <td>1.460000e+02</td>\n",
       "      <td>7.970964e+10</td>\n",
       "      <td>3.990000e+02</td>\n",
       "      <td>7.690000e+02</td>\n",
       "      <td>2.000000e+00</td>\n",
       "      <td>2.964000e+01</td>\n",
       "      <td>2.800000e+01</td>\n",
       "      <td>2.400000e+01</td>\n",
       "      <td>9.990180e+06</td>\n",
       "      <td>3.073978e-01</td>\n",
       "      <td>...</td>\n",
       "      <td>5.283620e-01</td>\n",
       "      <td>9.956908e-01</td>\n",
       "      <td>1.123620e+01</td>\n",
       "      <td>2.163543e-01</td>\n",
       "      <td>4.723083e-01</td>\n",
       "      <td>9.166995e-01</td>\n",
       "      <td>1.785595e+01</td>\n",
       "      <td>2.571429e+00</td>\n",
       "      <td>4.107902e+00</td>\n",
       "      <td>1.143367e+00</td>\n",
       "    </tr>\n",
       "  </tbody>\n",
       "</table>\n",
       "<p>8 rows × 21 columns</p>\n",
       "</div>"
      ],
      "text/plain": [
       "              store           upc          week          move           qty  \\\n",
       "count  3.967720e+06  3.967720e+06  3.967720e+06  3.967720e+06  3.967720e+06   \n",
       "mean   8.881704e+01  7.234429e+09  2.364477e+02  3.383864e+00  1.000011e+00   \n",
       "std    3.635469e+01  1.072429e+10  8.410145e+01  8.877261e+00  3.330071e-03   \n",
       "min    2.000000e+00  2.940000e+02  9.100000e+01  0.000000e+00  1.000000e+00   \n",
       "25%    7.000000e+01  3.410016e+09  1.670000e+02  0.000000e+00  1.000000e+00   \n",
       "50%    9.700000e+01  7.199012e+09  2.360000e+02  0.000000e+00  1.000000e+00   \n",
       "75%    1.180000e+02  7.336078e+09  3.020000e+02  3.000000e+00  1.000000e+00   \n",
       "max    1.460000e+02  7.970964e+10  3.990000e+02  7.690000e+02  2.000000e+00   \n",
       "\n",
       "              price      com_code          case         nitem         age60  \\\n",
       "count  3.967720e+06  3.967720e+06  3.967720e+06  3.967720e+06  3.738649e+06   \n",
       "mean   2.819041e+00  2.689510e+01  3.844397e+00  9.096410e+06  1.737367e-01   \n",
       "std    3.422010e+00  5.119450e-01  2.797815e+00  9.454292e+06  6.534513e-02   \n",
       "min    0.000000e+00  2.600000e+01  1.000000e+00 -2.684392e+08  5.805397e-02   \n",
       "25%    0.000000e+00  2.700000e+01  2.000000e+00  9.406600e+06  1.173680e-01   \n",
       "50%    0.000000e+00  2.700000e+01  4.000000e+00  9.412050e+06  1.706548e-01   \n",
       "75%    4.990000e+00  2.700000e+01  4.000000e+00  9.450300e+06  2.225343e-01   \n",
       "max    2.964000e+01  2.800000e+01  2.400000e+01  9.990180e+06  3.073978e-01   \n",
       "\n",
       "       ...          educ        ethnic        income       hhlarge  \\\n",
       "count  ...  3.738649e+06  3.738649e+06  3.738649e+06  3.738649e+06   \n",
       "mean   ...  2.203140e-01  1.484588e-01  1.061433e+01  1.177069e-01   \n",
       "std    ...  1.109482e-01  1.789707e-01  3.010606e-01  3.236447e-02   \n",
       "min    ...  4.955029e-02  2.424657e-02  9.867083e+00  1.350636e-02   \n",
       "25%    ...  1.443101e-01  4.154243e-02  1.041439e+01  9.683047e-02   \n",
       "50%    ...  2.195484e-01  7.396162e-02  1.064766e+01  1.136868e-01   \n",
       "75%    ...  2.799520e-01  1.877609e-01  1.079696e+01  1.353408e-01   \n",
       "max    ...  5.283620e-01  9.956908e-01  1.123620e+01  2.163543e-01   \n",
       "\n",
       "            workwom       hval150      sstrdist       sstrvol       cpdist5  \\\n",
       "count  3.738649e+06  3.738649e+06  3.738649e+06  3.738649e+06  3.738649e+06   \n",
       "mean   3.563791e-01  3.393292e-01  5.037027e+00  1.167110e+00  2.136872e+00   \n",
       "std    5.104252e-02  2.413650e-01  3.373427e+00  5.197779e-01  7.296672e-01   \n",
       "min    2.444627e-01  2.509410e-03  1.320968e-01  4.000000e-01  7.725297e-01   \n",
       "25%    3.115727e-01  9.996325e-02  2.636333e+00  7.058824e-01  1.626192e+00   \n",
       "50%    3.589945e-01  3.461539e-01  4.235049e+00  1.090909e+00  2.007204e+00   \n",
       "75%    3.982512e-01  5.339496e-01  6.678130e+00  1.500000e+00  2.656879e+00   \n",
       "max    4.723083e-01  9.166995e-01  1.785595e+01  2.571429e+00  4.107902e+00   \n",
       "\n",
       "            cpwvol5  \n",
       "count  3.738649e+06  \n",
       "mean   4.249844e-01  \n",
       "std    2.041200e-01  \n",
       "min    9.456175e-02  \n",
       "25%    2.716730e-01  \n",
       "50%    3.832268e-01  \n",
       "75%    5.543523e-01  \n",
       "max    1.143367e+00  \n",
       "\n",
       "[8 rows x 21 columns]"
      ]
     },
     "execution_count": 8,
     "metadata": {},
     "output_type": "execute_result"
    }
   ],
   "source": [
    "beer.describe()"
   ]
  },
  {
   "cell_type": "markdown",
   "id": "dad12dc0-669b-4307-8dd2-368f50211861",
   "metadata": {},
   "source": [
    "### Поиск пропущенных значений"
   ]
  },
  {
   "cell_type": "code",
   "execution_count": 9,
   "id": "7d870fb3-5288-4256-a0f5-8db313f937e2",
   "metadata": {},
   "outputs": [],
   "source": [
    "def percent_missing(df):\n",
    "    total = 100 *df.isnull().sum() / len(df)\n",
    "    total = total[total > 0].sort_values(ascending=False)\n",
    "    return total"
   ]
  },
  {
   "cell_type": "code",
   "execution_count": 10,
   "id": "19d3bbdf-2d81-4d0b-bc63-72cb1d0278c5",
   "metadata": {},
   "outputs": [
    {
     "data": {
      "text/plain": [
       "sale        86.202756\n",
       "age60        5.773366\n",
       "age9         5.773366\n",
       "educ         5.773366\n",
       "ethnic       5.773366\n",
       "income       5.773366\n",
       "hhlarge      5.773366\n",
       "workwom      5.773366\n",
       "hval150      5.773366\n",
       "sstrdist     5.773366\n",
       "sstrvol      5.773366\n",
       "cpdist5      5.773366\n",
       "cpwvol5      5.773366\n",
       "dtype: float64"
      ]
     },
     "execution_count": 10,
     "metadata": {},
     "output_type": "execute_result"
    }
   ],
   "source": [
    "beer_missing = percent_missing(beer)\n",
    "beer_missing"
   ]
  },
  {
   "cell_type": "markdown",
   "id": "09d00cda-0b0b-45b2-90f7-82a24e4d9f84",
   "metadata": {},
   "source": [
    "### Обработка пропущенных значений"
   ]
  },
  {
   "cell_type": "code",
   "execution_count": 11,
   "id": "b380fadc-b3d6-488e-942e-3adcfeda5ce2",
   "metadata": {},
   "outputs": [],
   "source": [
    "beer['sale'] = beer['sale'].fillna('Unknown')"
   ]
  },
  {
   "cell_type": "code",
   "execution_count": 12,
   "id": "a6b2aea3-fbb2-4bb3-b141-7093a15ec210",
   "metadata": {},
   "outputs": [],
   "source": [
    "col = ['age60', 'age9', 'educ', 'ethnic', 'income', 'hhlarge', 'workwom', 'hval150', 'sstrdist', 'sstrvol', 'cpdist5', 'cpwvol5']"
   ]
  },
  {
   "cell_type": "code",
   "execution_count": 13,
   "id": "0165fcba-9406-45b4-a750-1505734ca62c",
   "metadata": {},
   "outputs": [],
   "source": [
    "for column in col:\n",
    "    beer[column] = beer[column].fillna(beer[column].median())"
   ]
  },
  {
   "cell_type": "code",
   "execution_count": 14,
   "id": "569b26b2-b89a-4da1-9ee5-9209343b2f2c",
   "metadata": {},
   "outputs": [
    {
     "data": {
      "text/plain": [
       "Series([], dtype: float64)"
      ]
     },
     "execution_count": 14,
     "metadata": {},
     "output_type": "execute_result"
    }
   ],
   "source": [
    "beer_missing = percent_missing(beer)\n",
    "beer_missing"
   ]
  },
  {
   "cell_type": "markdown",
   "id": "800b4e2b-4d93-4a55-b814-6fc72619d97b",
   "metadata": {},
   "source": [
    "### Преобразуем week в datetime"
   ]
  },
  {
   "cell_type": "code",
   "execution_count": 15,
   "id": "7a08f7f5-6dfe-400a-a1fd-a0315b5ba08c",
   "metadata": {},
   "outputs": [],
   "source": [
    "def week_to_date(week):\n",
    "     week = int(week)\n",
    "     start = pd.to_datetime('1989-09-14') # - данные с манула\n",
    "     days_add = (week - 1) * 7 \n",
    "     return start+ pd.Timedelta(days=days_add)"
   ]
  },
  {
   "cell_type": "code",
   "execution_count": 16,
   "id": "eac1f557-95ae-4ee5-a5c7-20e439d448ec",
   "metadata": {},
   "outputs": [],
   "source": [
    "beer['date'] = beer['week'].apply(week_to_date)"
   ]
  },
  {
   "cell_type": "code",
   "execution_count": 17,
   "id": "c74b0ffd-81f3-4e4c-ade0-4a238fe72f4a",
   "metadata": {},
   "outputs": [
    {
     "data": {
      "text/plain": [
       "0         1995-05-25\n",
       "1         1995-06-01\n",
       "2         1995-06-08\n",
       "3         1995-06-15\n",
       "4         1995-06-22\n",
       "             ...    \n",
       "3967715   1997-04-03\n",
       "3967716   1997-04-10\n",
       "3967717   1997-04-17\n",
       "3967718   1997-04-24\n",
       "3967719   1997-05-01\n",
       "Name: date, Length: 3967720, dtype: datetime64[ns]"
      ]
     },
     "execution_count": 17,
     "metadata": {},
     "output_type": "execute_result"
    }
   ],
   "source": [
    "beer['date']"
   ]
  },
  {
   "cell_type": "markdown",
   "id": "15d6ee70-4b88-43f5-9b17-9c7183211451",
   "metadata": {},
   "source": [
    "### Визуализация"
   ]
  },
  {
   "cell_type": "code",
   "execution_count": 18,
   "id": "b1c4f988-47d3-449e-9b6a-d6f3eefd08f9",
   "metadata": {},
   "outputs": [
    {
     "data": {
      "image/png": "[encoded data removed]",
      "text/plain": [
       "<Figure size 1400x800 with 1 Axes>"
      ]
     },
     "metadata": {},
     "output_type": "display_data"
    }
   ],
   "source": [
    "plt.figure(figsize=(14, 8))\n",
    "beer.groupby('date')['qty'].sum().plot()\n",
    "plt.title('Продажи пива по времени', fontsize=16, fontweight='bold')\n",
    "plt.xlabel('Дата', fontsize=12)\n",
    "plt.ylabel('Общее количество')\n",
    "plt.grid(axis='y', linestyle='--', alpha=0.7)\n",
    "plt.margins(x=0)\n",
    "plt.show()"
   ]
  },
  {
   "cell_type": "code",
   "execution_count": 19,
   "id": "f6e0a8b9-6624-4562-bd96-eed8e4c403dd",
   "metadata": {},
   "outputs": [
    {
     "data": {
      "image/png": "[encoded data removed]",
      "text/plain": [
       "<Figure size 1000x800 with 2 Axes>"
      ]
     },
     "metadata": {},
     "output_type": "display_data"
    }
   ],
   "source": [
    "corr = beer[['qty', 'price', 'age60', 'age9', 'educ', 'ethnic', 'income', 'hhlarge', 'workwom', 'hval150','store']].corr()\n",
    "plt.figure(figsize=(10, 8))\n",
    "sns.heatmap(corr, annot=True, cmap='coolwarm')\n",
    "plt.title('Корреляции между признаками')\n",
    "plt.xticks(rotation=45)\n",
    "plt.yticks(rotation=45)\n",
    "plt.show()"
   ]
  },
  {
   "cell_type": "markdown",
   "id": "99f76bb7-55ed-46a3-b3a9-47aa4fa63e5e",
   "metadata": {},
   "source": [
    "### Нахождение выбросов"
   ]
  },
  {
   "cell_type": "code",
   "execution_count": 20,
   "id": "4a700a4a-9e58-47a1-b564-f97342fd373f",
   "metadata": {},
   "outputs": [],
   "source": [
    "high_corr = ['hval150', 'educ', 'income']"
   ]
  },
  {
   "cell_type": "code",
   "execution_count": 21,
   "id": "623217d7-123d-41e9-b745-54d836e13c5f",
   "metadata": {},
   "outputs": [
    {
     "data": {
      "image/png": "[encoded data removed]",
      "text/plain": [
       "<Figure size 1000x600 with 3 Axes>"
      ]
     },
     "metadata": {},
     "output_type": "display_data"
    }
   ],
   "source": [
    "plt.figure(figsize=(10, 6))\n",
    "for i, col in enumerate(high_corr, 1):\n",
    "    plt.subplot(1, 3, i)\n",
    "    sns.boxplot(x=beer[col])\n",
    "    plt.title(f'Boxplot {col} До IQR')\n",
    "plt.tight_layout()\n",
    "plt.show()"
   ]
  },
  {
   "cell_type": "markdown",
   "id": "a61fd087-c655-46e2-81c7-e95b4d479435",
   "metadata": {},
   "source": [
    "### Удаление выбросов"
   ]
  },
  {
   "cell_type": "code",
   "execution_count": 22,
   "id": "52770d50-e1f9-4236-8eb3-97f8beeacd59",
   "metadata": {},
   "outputs": [],
   "source": [
    "def iqr(df, column):\n",
    "    Q1 = df[column].quantile(0.25)\n",
    "    Q3 = df[column].quantile(0.75)\n",
    "    IQR = Q3 - Q1\n",
    "    lower_bound = Q1 - 1.5 * IQR\n",
    "    upper_bound = Q3 + 1.5 * IQR\n",
    "    return lower_bound, upper_bound"
   ]
  },
  {
   "cell_type": "code",
   "execution_count": 23,
   "id": "18aa8b9d-54d4-442d-86c9-8c485064c750",
   "metadata": {},
   "outputs": [],
   "source": [
    "for col in high_corr:\n",
    "    lower_bound, upper_bound = iqr(beer, col)\n",
    "    beer = beer[(beer[col] >= lower_bound) & (beer[col] <= upper_bound)]"
   ]
  },
  {
   "cell_type": "code",
   "execution_count": 24,
   "id": "ea42c305-fcc3-4837-b486-d558f1cdd36d",
   "metadata": {},
   "outputs": [
    {
     "data": {
      "image/png": "[encoded data removed]",
      "text/plain": [
       "<Figure size 1000x600 with 3 Axes>"
      ]
     },
     "metadata": {},
     "output_type": "display_data"
    }
   ],
   "source": [
    "plt.figure(figsize=(10, 6))\n",
    "for i, col in enumerate(high_corr, 1):\n",
    "    plt.subplot(1, 3, i)\n",
    "    sns.boxplot(x=beer[col])\n",
    "    plt.title(f'Boxplot {col} после IQR')\n",
    "plt.tight_layout()\n",
    "plt.show()"
   ]
  },
  {
   "cell_type": "markdown",
   "id": "5e36a77b-461b-4716-b95d-ee8025156ad9",
   "metadata": {},
   "source": [
    "### Feature Engineering"
   ]
  },
  {
   "cell_type": "code",
   "execution_count": 25,
   "id": "666ded5b-8c40-4de9-ab8b-060a22937322",
   "metadata": {},
   "outputs": [],
   "source": [
    "beer_agg = beer.groupby('date').agg(\n",
    "    {'qty': 'sum', \n",
    "    'price': 'mean'}\n",
    ").reset_index()"
   ]
  },
  {
   "cell_type": "code",
   "execution_count": 26,
   "id": "163bb3db-9366-4e01-91f5-3ee27f021b5d",
   "metadata": {},
   "outputs": [],
   "source": [
    "beer_agg['dayofweek'] = beer_agg['date'].dt.dayofweek\n",
    "beer_agg['month'] = beer_agg['date'].dt.month\n",
    "beer_agg['year'] = beer_agg['date'].dt.year"
   ]
  },
  {
   "cell_type": "code",
   "execution_count": 27,
   "id": "8d0c2ae4-dfa9-44c9-bcab-707d03bb3b21",
   "metadata": {},
   "outputs": [],
   "source": [
    "beer_agg['qty_lag1'] = beer_agg['qty'].shift(1)\n",
    "beer_agg['qty_lag2'] = beer_agg['qty'].shift(2)\n",
    "beer_agg['qty_lag3'] = beer_agg['qty'].shift(3)"
   ]
  },
  {
   "cell_type": "code",
   "execution_count": 28,
   "id": "8700808c-bf3b-43e1-be38-f17a80412d63",
   "metadata": {},
   "outputs": [],
   "source": [
    "beer_agg = beer_agg.dropna()"
   ]
  },
  {
   "cell_type": "code",
   "execution_count": 29,
   "id": "83480de0-95b7-4045-a7bf-f4eef0c8e8c9",
   "metadata": {},
   "outputs": [
    {
     "data": {
      "text/html": [
       "<div>\n",
       "<style scoped>\n",
       "    .dataframe tbody tr th:only-of-type {\n",
       "        vertical-align: middle;\n",
       "    }\n",
       "\n",
       "    .dataframe tbody tr th {\n",
       "        vertical-align: top;\n",
       "    }\n",
       "\n",
       "    .dataframe thead th {\n",
       "        text-align: right;\n",
       "    }\n",
       "</style>\n",
       "<table border=\"1\" class=\"dataframe\">\n",
       "  <thead>\n",
       "    <tr style=\"text-align: right;\">\n",
       "      <th></th>\n",
       "      <th>date</th>\n",
       "      <th>qty</th>\n",
       "      <th>price</th>\n",
       "      <th>dayofweek</th>\n",
       "      <th>month</th>\n",
       "      <th>year</th>\n",
       "      <th>qty_lag1</th>\n",
       "      <th>qty_lag2</th>\n",
       "      <th>qty_lag3</th>\n",
       "    </tr>\n",
       "  </thead>\n",
       "  <tbody>\n",
       "    <tr>\n",
       "      <th>3</th>\n",
       "      <td>1991-06-27</td>\n",
       "      <td>12491</td>\n",
       "      <td>2.696686</td>\n",
       "      <td>3</td>\n",
       "      <td>6</td>\n",
       "      <td>1991</td>\n",
       "      <td>12336.0</td>\n",
       "      <td>12491.0</td>\n",
       "      <td>12324.0</td>\n",
       "    </tr>\n",
       "    <tr>\n",
       "      <th>4</th>\n",
       "      <td>1991-07-04</td>\n",
       "      <td>12324</td>\n",
       "      <td>2.862903</td>\n",
       "      <td>3</td>\n",
       "      <td>7</td>\n",
       "      <td>1991</td>\n",
       "      <td>12491.0</td>\n",
       "      <td>12336.0</td>\n",
       "      <td>12491.0</td>\n",
       "    </tr>\n",
       "    <tr>\n",
       "      <th>5</th>\n",
       "      <td>1991-07-11</td>\n",
       "      <td>12490</td>\n",
       "      <td>2.898503</td>\n",
       "      <td>3</td>\n",
       "      <td>7</td>\n",
       "      <td>1991</td>\n",
       "      <td>12324.0</td>\n",
       "      <td>12491.0</td>\n",
       "      <td>12336.0</td>\n",
       "    </tr>\n",
       "    <tr>\n",
       "      <th>6</th>\n",
       "      <td>1991-07-18</td>\n",
       "      <td>12491</td>\n",
       "      <td>2.842217</td>\n",
       "      <td>3</td>\n",
       "      <td>7</td>\n",
       "      <td>1991</td>\n",
       "      <td>12490.0</td>\n",
       "      <td>12324.0</td>\n",
       "      <td>12491.0</td>\n",
       "    </tr>\n",
       "    <tr>\n",
       "      <th>7</th>\n",
       "      <td>1991-07-25</td>\n",
       "      <td>12491</td>\n",
       "      <td>2.809736</td>\n",
       "      <td>3</td>\n",
       "      <td>7</td>\n",
       "      <td>1991</td>\n",
       "      <td>12491.0</td>\n",
       "      <td>12490.0</td>\n",
       "      <td>12324.0</td>\n",
       "    </tr>\n",
       "    <tr>\n",
       "      <th>...</th>\n",
       "      <td>...</td>\n",
       "      <td>...</td>\n",
       "      <td>...</td>\n",
       "      <td>...</td>\n",
       "      <td>...</td>\n",
       "      <td>...</td>\n",
       "      <td>...</td>\n",
       "      <td>...</td>\n",
       "      <td>...</td>\n",
       "    </tr>\n",
       "    <tr>\n",
       "      <th>297</th>\n",
       "      <td>1997-04-03</td>\n",
       "      <td>9748</td>\n",
       "      <td>2.525256</td>\n",
       "      <td>3</td>\n",
       "      <td>4</td>\n",
       "      <td>1997</td>\n",
       "      <td>9748.0</td>\n",
       "      <td>9661.0</td>\n",
       "      <td>9661.0</td>\n",
       "    </tr>\n",
       "    <tr>\n",
       "      <th>298</th>\n",
       "      <td>1997-04-10</td>\n",
       "      <td>9748</td>\n",
       "      <td>2.303949</td>\n",
       "      <td>3</td>\n",
       "      <td>4</td>\n",
       "      <td>1997</td>\n",
       "      <td>9748.0</td>\n",
       "      <td>9748.0</td>\n",
       "      <td>9661.0</td>\n",
       "    </tr>\n",
       "    <tr>\n",
       "      <th>299</th>\n",
       "      <td>1997-04-17</td>\n",
       "      <td>9748</td>\n",
       "      <td>2.497338</td>\n",
       "      <td>3</td>\n",
       "      <td>4</td>\n",
       "      <td>1997</td>\n",
       "      <td>9748.0</td>\n",
       "      <td>9748.0</td>\n",
       "      <td>9748.0</td>\n",
       "    </tr>\n",
       "    <tr>\n",
       "      <th>300</th>\n",
       "      <td>1997-04-24</td>\n",
       "      <td>9836</td>\n",
       "      <td>2.474511</td>\n",
       "      <td>3</td>\n",
       "      <td>4</td>\n",
       "      <td>1997</td>\n",
       "      <td>9748.0</td>\n",
       "      <td>9748.0</td>\n",
       "      <td>9748.0</td>\n",
       "    </tr>\n",
       "    <tr>\n",
       "      <th>301</th>\n",
       "      <td>1997-05-01</td>\n",
       "      <td>9836</td>\n",
       "      <td>2.503553</td>\n",
       "      <td>3</td>\n",
       "      <td>5</td>\n",
       "      <td>1997</td>\n",
       "      <td>9836.0</td>\n",
       "      <td>9748.0</td>\n",
       "      <td>9748.0</td>\n",
       "    </tr>\n",
       "  </tbody>\n",
       "</table>\n",
       "<p>299 rows × 9 columns</p>\n",
       "</div>"
      ],
      "text/plain": [
       "          date    qty     price  dayofweek  month  year  qty_lag1  qty_lag2  \\\n",
       "3   1991-06-27  12491  2.696686          3      6  1991   12336.0   12491.0   \n",
       "4   1991-07-04  12324  2.862903          3      7  1991   12491.0   12336.0   \n",
       "5   1991-07-11  12490  2.898503          3      7  1991   12324.0   12491.0   \n",
       "6   1991-07-18  12491  2.842217          3      7  1991   12490.0   12324.0   \n",
       "7   1991-07-25  12491  2.809736          3      7  1991   12491.0   12490.0   \n",
       "..         ...    ...       ...        ...    ...   ...       ...       ...   \n",
       "297 1997-04-03   9748  2.525256          3      4  1997    9748.0    9661.0   \n",
       "298 1997-04-10   9748  2.303949          3      4  1997    9748.0    9748.0   \n",
       "299 1997-04-17   9748  2.497338          3      4  1997    9748.0    9748.0   \n",
       "300 1997-04-24   9836  2.474511          3      4  1997    9748.0    9748.0   \n",
       "301 1997-05-01   9836  2.503553          3      5  1997    9836.0    9748.0   \n",
       "\n",
       "     qty_lag3  \n",
       "3     12324.0  \n",
       "4     12491.0  \n",
       "5     12336.0  \n",
       "6     12491.0  \n",
       "7     12324.0  \n",
       "..        ...  \n",
       "297    9661.0  \n",
       "298    9661.0  \n",
       "299    9748.0  \n",
       "300    9748.0  \n",
       "301    9748.0  \n",
       "\n",
       "[299 rows x 9 columns]"
      ]
     },
     "execution_count": 29,
     "metadata": {},
     "output_type": "execute_result"
    }
   ],
   "source": [
    "beer_agg"
   ]
  },
  {
   "cell_type": "markdown",
   "id": "502e420d-d4ae-42a8-8e81-6ef171dea5e3",
   "metadata": {},
   "source": [
    "### Анализ эластичности"
   ]
  },
  {
   "cell_type": "code",
   "execution_count": 30,
   "id": "29eb4a43-a74b-43d0-a522-bade905cb044",
   "metadata": {},
   "outputs": [],
   "source": [
    "elastic = beer_agg.groupby('price')['qty'].mean().reset_index()"
   ]
  },
  {
   "cell_type": "code",
   "execution_count": 31,
   "id": "7e0c4924-0fca-461a-a9d9-1795ed0642f4",
   "metadata": {},
   "outputs": [],
   "source": [
    "elastic['price_change'] = elastic['price'].pct_change()\n",
    "elastic['qty_change'] = elastic['qty'].pct_change()"
   ]
  },
  {
   "cell_type": "code",
   "execution_count": 32,
   "id": "0a355692-c271-4712-a4cf-9624de903c54",
   "metadata": {},
   "outputs": [],
   "source": [
    "# изменение qty / изменение цены\n",
    "elastic['elasticity'] = elastic['qty_change'] / elastic['price_change']"
   ]
  },
  {
   "cell_type": "code",
   "execution_count": 33,
   "id": "177d006c-723c-4abe-9c35-f607b3dc202f",
   "metadata": {},
   "outputs": [],
   "source": [
    "elastic = elastic.dropna()"
   ]
  },
  {
   "cell_type": "code",
   "execution_count": 34,
   "id": "d3d2c92f-572f-4ee3-a69c-b5cb576fb29f",
   "metadata": {},
   "outputs": [],
   "source": [
    "# Сглаживание эластичности с помощью скользящего среднего\n",
    "elastic['elasticity_smoothed'] = elastic['elasticity'].rolling(window=5,center=True).mean()"
   ]
  },
  {
   "cell_type": "code",
   "execution_count": 35,
   "id": "a223c999-5dbe-47c2-bb38-6dd63b94a1a1",
   "metadata": {},
   "outputs": [
    {
     "data": {
      "image/png": "[encoded data removed]",
      "text/plain": [
       "<Figure size 1000x600 with 1 Axes>"
      ]
     },
     "metadata": {},
     "output_type": "display_data"
    }
   ],
   "source": [
    "plt.figure(figsize=(10, 6))\n",
    "plt.plot(elastic['price'], elastic['elasticity_smoothed'], label='Сглаженная эластичность')\n",
    "plt.xlabel('Цена')\n",
    "plt.ylabel('Эластичность спроса')\n",
    "plt.title('Кривая эластичности спроса')\n",
    "plt.grid(True)\n",
    "plt.legend()\n",
    "plt.show()"
   ]
  },
  {
   "cell_type": "markdown",
   "id": "9edc7485-ae98-4fed-b5d7-1fb5a9ea2cd6",
   "metadata": {},
   "source": [
    "### Подготовка к обучению"
   ]
  },
  {
   "cell_type": "code",
   "execution_count": 36,
   "id": "f957a688-4372-477b-9cff-b4a6910c4979",
   "metadata": {},
   "outputs": [],
   "source": [
    "X = beer_agg.drop(['date', 'qty'], axis=1)\n",
    "y = beer_agg['qty']"
   ]
  },
  {
   "cell_type": "code",
   "execution_count": 37,
   "id": "97352f53-c9e2-44ce-a104-2551da032787",
   "metadata": {},
   "outputs": [],
   "source": [
    "X_train, X_test, y_train, y_test = train_test_split(X, y, test_size=0.2, random_state=42)"
   ]
  },
  {
   "cell_type": "code",
   "execution_count": 38,
   "id": "fa2756e7-d9fa-45bd-9282-f11351417745",
   "metadata": {},
   "outputs": [],
   "source": [
    "scaler = StandardScaler()"
   ]
  },
  {
   "cell_type": "code",
   "execution_count": 39,
   "id": "38c023ee-6e60-425d-bbbc-ab819672daee",
   "metadata": {},
   "outputs": [],
   "source": [
    "X_train_scaled = scaler.fit_transform(X_train)\n",
    "X_test_scaled = scaler.transform(X_test)"
   ]
  },
  {
   "cell_type": "markdown",
   "id": "8784149c-4574-4521-ad04-a847a6fb221c",
   "metadata": {},
   "source": [
    "### Модель (XGBoost)"
   ]
  },
  {
   "cell_type": "raw",
   "id": "f33d7dcc-9e63-4f5d-be34-fab2aee8fc74",
   "metadata": {},
   "source": [
    "Обоснование выбора XGBoost: \n",
    "1. Лучший среди ансамблей (моё мнение основано на его успехе в соревнованиях). Часто показывает лучшие результаты, чем другие ансамбли, особенно в базовых конкурсах на kaggle.\n",
    "2. Может быть немного медленнее, чем LightGBM, но обычно он оказывается более точным.\n",
    "3. Может работать с пропусками в данных более-менее нормально, хотя я уже их убрал.\n",
    "4. Умеет \"подстраиваться\" под данные лучше, чем Random Forest, благодаря регуляризации и градиентному бустингу."
   ]
  },
  {
   "cell_type": "markdown",
   "id": "365c3e16-eb5b-4e6c-8b6d-29efa09e8be8",
   "metadata": {},
   "source": [
    "#### Подбор параметров XGBoost"
   ]
  },
  {
   "cell_type": "code",
   "execution_count": 40,
   "id": "8c474f16-4032-4a72-be7c-5643568cb4ef",
   "metadata": {},
   "outputs": [],
   "source": [
    "xg_model = xgb.XGBRegressor(\n",
    "    objective='reg:squarederror', \n",
    "    n_estimators=100,\n",
    "    learning_rate=0.1,\n",
    "    max_depth=5,\n",
    "    random_state=42\n",
    ")\n",
    "# - пока поставил базовые гиперпараметры.\n",
    "# - но можно использовать gridsearchcv, для поиска лучших гиперпараметров."
   ]
  },
  {
   "cell_type": "markdown",
   "id": "f2f76edf-2c3b-43a4-b611-d0df8ce6f4ed",
   "metadata": {},
   "source": [
    "#### Обучение модели XGBoost"
   ]
  },
  {
   "cell_type": "code",
   "execution_count": 41,
   "id": "72d0be83-8713-44b6-b699-7e6771d1dffc",
   "metadata": {},
   "outputs": [],
   "source": [
    "xg_model.fit(X_train, y_train)\n",
    "xg_pred = xg_model.predict(X_test)"
   ]
  },
  {
   "cell_type": "markdown",
   "id": "c5ec499c-2fd0-4a6c-82a8-f14b57c54c70",
   "metadata": {},
   "source": [
    "#### Результаты модели XGBoost"
   ]
  },
  {
   "cell_type": "code",
   "execution_count": 42,
   "id": "74cecd68-0e0a-456e-a6ed-20866735e5f9",
   "metadata": {},
   "outputs": [],
   "source": [
    "xg_mae = mean_absolute_error(y_test, xg_pred)\n",
    "xg_rmse = np.sqrt(mean_squared_error(y_test, xg_pred))\n",
    "xg_r2 = r2_score(y_test, xg_pred)"
   ]
  },
  {
   "cell_type": "code",
   "execution_count": 43,
   "id": "34a490f8-df8e-4bf7-bade-e96a8e367283",
   "metadata": {},
   "outputs": [
    {
     "name": "stdout",
     "output_type": "stream",
     "text": [
      "XGBoost R^2 0.9967\n",
      "XGBoost MAE: 117.3602\n",
      "XGBoost RMSE: 167.0654\n"
     ]
    }
   ],
   "source": [
    "print(f'XGBoost R^2 {xg_r2:.4f}')\n",
    "print(f'XGBoost MAE: {xg_mae:.4f}')\n",
    "print(f'XGBoost RMSE: {xg_rmse:.4f}')"
   ]
  },
  {
   "cell_type": "markdown",
   "id": "83762881-b87f-47a1-81ed-f32241a8aded",
   "metadata": {},
   "source": [
    "### Модель(AutoGluon) "
   ]
  },
  {
   "cell_type": "raw",
   "id": "fef5b209-911b-4538-bb9b-2befe807bd82",
   "metadata": {},
   "source": [
    "Обоснование выбора AutoGluon: \n",
    "1. Автоматически создает ансамбль из разных моделей, что увеличивает точность.\n",
    "2. Лучший AutoML, часто показывает хорошие результаты, сравнимые с ручной настройкой, особенно когда нужно быстрое решение."
   ]
  },
  {
   "cell_type": "markdown",
   "id": "cdfd4c20-df79-4f3f-a2ec-c400c4fe8364",
   "metadata": {},
   "source": [
    "#### Обучение модели AutoGluon"
   ]
  },
  {
   "cell_type": "code",
   "execution_count": 44,
   "id": "8c51fa82-614d-4636-b7b9-4783eea6b09f",
   "metadata": {},
   "outputs": [],
   "source": [
    "train_data = pd.concat([X_train, y_train], axis=1)\n",
    "test_data = pd.concat([X_test, y_test], axis=1)"
   ]
  },
  {
   "cell_type": "code",
   "execution_count": 45,
   "id": "6a269d23-7e57-4c17-98b8-1c51233c38b5",
   "metadata": {},
   "outputs": [],
   "source": [
    "ag_predictor = TabularPredictor(label='qty', eval_metric='rmse', verbosity=0).fit(train_data)\n",
    "ag_pred = ag_predictor.predict(X_test)"
   ]
  },
  {
   "cell_type": "markdown",
   "id": "69114eed-ad4a-44b9-b560-b293ac39a87b",
   "metadata": {},
   "source": [
    "#### Результаты модели AutoGluon"
   ]
  },
  {
   "cell_type": "code",
   "execution_count": 46,
   "id": "df378b1b-042b-4667-82ac-6bed894b2082",
   "metadata": {},
   "outputs": [
    {
     "name": "stdout",
     "output_type": "stream",
     "text": [
      "                  model   score_val              eval_metric  pred_time_val  \\\n",
      "0   WeightedEnsemble_L2 -206.104550  root_mean_squared_error       0.003034   \n",
      "1        NeuralNetTorch -206.104550  root_mean_squared_error       0.003034   \n",
      "2        KNeighborsDist -389.216481  root_mean_squared_error       0.008421   \n",
      "3        KNeighborsUnif -393.685297  root_mean_squared_error       0.068525   \n",
      "4       NeuralNetFastAI -479.320693  root_mean_squared_error       0.008000   \n",
      "5            LightGBMXT -509.788418  root_mean_squared_error       0.002998   \n",
      "6         ExtraTreesMSE -572.614050  root_mean_squared_error       0.035000   \n",
      "7              LightGBM -607.931466  root_mean_squared_error       0.003001   \n",
      "8       RandomForestMSE -663.220266  root_mean_squared_error       0.034864   \n",
      "9               XGBoost -816.297230  root_mean_squared_error       0.003003   \n",
      "10             CatBoost -846.472940  root_mean_squared_error       0.000997   \n",
      "11        LightGBMLarge -954.373533  root_mean_squared_error       0.003004   \n",
      "\n",
      "     fit_time  pred_time_val_marginal  fit_time_marginal  stack_level  \\\n",
      "0   14.800871                0.000000           0.013507            2   \n",
      "1   14.787364                0.003034          14.787364            1   \n",
      "2    0.004999                0.008421           0.004999            1   \n",
      "3    0.005001                0.068525           0.005001            1   \n",
      "4    5.115513                0.008000           5.115513            1   \n",
      "5   10.019213                0.002998          10.019213            1   \n",
      "6    0.403052                0.035000           0.403052            1   \n",
      "7    0.150513                0.003001           0.150513            1   \n",
      "8    0.566626                0.034864           0.566626            1   \n",
      "9    0.173032                0.003003           0.173032            1   \n",
      "10   0.937196                0.000997           0.937196            1   \n",
      "11   0.281088                0.003004           0.281088            1   \n",
      "\n",
      "    can_infer  fit_order  \n",
      "0        True         12  \n",
      "1        True         10  \n",
      "2        True          2  \n",
      "3        True          1  \n",
      "4        True          8  \n",
      "5        True          3  \n",
      "6        True          7  \n",
      "7        True          4  \n",
      "8        True          5  \n",
      "9        True          9  \n",
      "10       True          6  \n",
      "11       True         11  \n"
     ]
    }
   ],
   "source": [
    "leaderboard = ag_predictor.leaderboard(silent=True)\n",
    "print(leaderboard)"
   ]
  },
  {
   "cell_type": "code",
   "execution_count": 47,
   "id": "8013a214-b557-4dec-880d-529ca184ecc6",
   "metadata": {},
   "outputs": [],
   "source": [
    "ag_mae = mean_absolute_error(y_test, ag_pred)\n",
    "ag_rmse = np.sqrt(mean_squared_error(y_test, ag_pred))\n",
    "ag_r2 = r2_score(y_test, ag_pred)"
   ]
  },
  {
   "cell_type": "code",
   "execution_count": 48,
   "id": "94e9562b-edfb-4024-9769-9c08ffee253b",
   "metadata": {},
   "outputs": [
    {
     "name": "stdout",
     "output_type": "stream",
     "text": [
      "AutoGluon R^2: 0.9958\n",
      "AutoGluon MAE: 133.1277\n",
      "AutoGluon RMSE: 187.5365\n"
     ]
    }
   ],
   "source": [
    "print(f'AutoGluon R^2: {ag_r2:.4f}')\n",
    "print(f'AutoGluon MAE: {ag_mae:.4f}')\n",
    "print(f'AutoGluon RMSE: {ag_rmse:.4f}')"
   ]
  },
  {
   "cell_type": "markdown",
   "id": "8785ba2e-7af6-42fe-90d7-a91d9a9b45e7",
   "metadata": {},
   "source": [
    "### Модель (LSTNet) "
   ]
  },
  {
   "cell_type": "raw",
   "id": "835761eb-18ee-4b10-99d2-d69a1b36f584",
   "metadata": {},
   "source": [
    "Обоснование выбора LSTNet: \n",
    "1. Статистические методы, такие как SARIMA и Prophet, показали отрицательные результаты, поэтому был сделан выбор в пользу нейросетей.\n",
    "2. Показывает более точные результаты по сравнению с обычным LSTM, так как лучше улавливает сложные паттерны во временных рядах.\n",
    "3. LSTNet имеет в своей структуре механизмы skip-connections, которые помогают ловить как краткосрочные так и долгосрочные зависимости, в отличие от обычного LSTM."
   ]
  },
  {
   "cell_type": "markdown",
   "id": "d21d242a-3899-4457-a226-5fff2f24d693",
   "metadata": {},
   "source": [
    "#### Подготовка к обучеию LSTNet"
   ]
  },
  {
   "cell_type": "code",
   "execution_count": 49,
   "id": "0c8be235-adc6-4f09-acac-02a3c000a13a",
   "metadata": {},
   "outputs": [],
   "source": [
    "def prepare_lstnet_data(data, sequence_length, num_features):\n",
    "    X, y = [], []\n",
    "    for i in range(len(data) - sequence_length):\n",
    "        seq = data[i:i+sequence_length]\n",
    "        target = data[i+sequence_length, 0]  \n",
    "        X.append(seq)\n",
    "        y.append(target)\n",
    "    return np.array(X), np.array(y).reshape(-1,1)"
   ]
  },
  {
   "cell_type": "markdown",
   "id": "0a73dce6-c024-4bec-9852-bae3ba3e30fe",
   "metadata": {},
   "source": [
    "#### Создание класса LSTNet"
   ]
  },
  {
   "cell_type": "code",
   "execution_count": 50,
   "id": "540074bd-48d7-4f38-9261-d98087ed68ca",
   "metadata": {},
   "outputs": [],
   "source": [
    "class LSTNetModel(nn.Module):\n",
    "    def __init__(self, input_size, hidden_size, output_size, seq_length, num_features):\n",
    "        super(LSTNetModel, self).__init__()\n",
    "        self.input_size = input_size\n",
    "        self.num_features = num_features\n",
    "        self.conv1 = nn.Conv1d(\n",
    "            in_channels=num_features,\n",
    "            out_channels=hidden_size,\n",
    "            kernel_size=3,\n",
    "            padding=1\n",
    "        )\n",
    "        \n",
    "        self.lstm = nn.LSTM(\n",
    "            input_size=hidden_size,\n",
    "            hidden_size=hidden_size,\n",
    "            batch_first=True\n",
    "        )\n",
    "        self.fc = nn.Linear(hidden_size, output_size)\n",
    "\n",
    "    def forward(self, x):\n",
    "        x = x.transpose(1, 2)\n",
    "        conv_out = self.conv1(x)\n",
    "        conv_out = conv_out.transpose(1, 2)\n",
    "        lstm_out, _ = self.lstm(conv_out)\n",
    "        last_time_step = lstm_out[:, -1, :]\n",
    "        output = self.fc(last_time_step)\n",
    "        \n",
    "        return output"
   ]
  },
  {
   "cell_type": "markdown",
   "id": "8c7e7e86-3f13-4a3a-852f-c15053ff2880",
   "metadata": {},
   "source": [
    "#### Обучение и результаты LSTNet"
   ]
  },
  {
   "cell_type": "code",
   "execution_count": 51,
   "id": "64841510-bd69-47b7-87ab-2562a87ff4c0",
   "metadata": {},
   "outputs": [],
   "source": [
    "def train_lstnet(beer_agg, sequence_length=10, hidden_size=64, learning_rate=0.001, epochs=100):\n",
    "    features = ['qty', 'price', 'dayofweek', 'month', 'year', 'qty_lag1', 'qty_lag2']\n",
    "    data = beer_agg[features].values\n",
    "    scaler = StandardScaler()\n",
    "    data_scaled = scaler.fit_transform(data)\n",
    "    X, y = prepare_lstnet_data(data_scaled, sequence_length, len(features))\n",
    "    \n",
    "    X_train, X_test, y_train, y_test = train_test_split(\n",
    "        X, y, test_size=0.2, random_state=42\n",
    "    )\n",
    "\n",
    "    X_train_tensor = torch.FloatTensor(X_train)\n",
    "    X_test_tensor = torch.FloatTensor(X_test)\n",
    "    y_train_tensor = torch.FloatTensor(y_train)\n",
    "    y_test_tensor = torch.FloatTensor(y_test)\n",
    "\n",
    "    train_dataset = TensorDataset(X_train_tensor, y_train_tensor)\n",
    "    train_loader = DataLoader(train_dataset, batch_size=32, shuffle=True)\n",
    "\n",
    "    model = LSTNetModel(\n",
    "        input_size=1,\n",
    "        hidden_size=hidden_size,\n",
    "        output_size=1,\n",
    "        seq_length=sequence_length,\n",
    "        num_features=len(features)\n",
    "    )\n",
    "\n",
    "    criterion = nn.MSELoss()\n",
    "    optimizer = optim.Adam(model.parameters(), lr=learning_rate)\n",
    "\n",
    "    for epoch in range(epochs):\n",
    "        model.train()\n",
    "        total_loss = 0\n",
    "        for batch_x, batch_y in train_loader:\n",
    "            optimizer.zero_grad()\n",
    "            outputs = model(batch_x)\n",
    "            loss = criterion(outputs, batch_y)\n",
    "            loss.backward()\n",
    "            optimizer.step()\n",
    "            total_loss += loss.item()\n",
    "        if (epoch + 1) % 10 == 0:\n",
    "            print(f\"Epoch [{epoch+1}/{epochs}], Loss: {total_loss/len(train_loader):.4f}\")\n",
    "\n",
    "    model.eval()\n",
    "    with torch.no_grad():\n",
    "        test_pred = model(X_test_tensor)\n",
    "        test_pred_np = test_pred.detach().numpy()\n",
    "        y_test_np = y_test\n",
    "\n",
    "        mae = mean_absolute_error(y_test_np, test_pred_np)\n",
    "        rmse = np.sqrt(mean_squared_error(y_test_np, test_pred_np))\n",
    "        r2 = r2_score(y_test_np, test_pred_np)\n",
    "\n",
    "        print(f\"LSTNet R^2: {r2:.4f}\")\n",
    "        print(f\"LSTNet MAE: {mae:.4f}\")\n",
    "        print(f\"LSTNet RMSE: {rmse:.4f}\")\n",
    "        \n",
    "    return model, scaler, r2, mae, rmse"
   ]
  },
  {
   "cell_type": "code",
   "execution_count": 52,
   "id": "f257a6bd-c2ad-4a49-b205-0778f3787ed3",
   "metadata": {},
   "outputs": [
    {
     "name": "stdout",
     "output_type": "stream",
     "text": [
      "Epoch [10/100], Loss: 0.0647\n",
      "Epoch [20/100], Loss: 0.0589\n",
      "Epoch [30/100], Loss: 0.0476\n",
      "Epoch [40/100], Loss: 0.0449\n",
      "Epoch [50/100], Loss: 0.0462\n",
      "Epoch [60/100], Loss: 0.0418\n",
      "Epoch [70/100], Loss: 0.0412\n",
      "Epoch [80/100], Loss: 0.0472\n",
      "Epoch [90/100], Loss: 0.0548\n",
      "Epoch [100/100], Loss: 0.0384\n",
      "LSTNet R^2: 0.9356\n",
      "LSTNet MAE: 0.1063\n",
      "LSTNet RMSE: 0.2668\n"
     ]
    }
   ],
   "source": [
    "model, scaler, lstnet_r2, lstnet_mae, lstnet_rmse = train_lstnet(beer_agg)"
   ]
  },
  {
   "cell_type": "markdown",
   "id": "2f8c5720-e556-47af-ab62-dd300c4e5594",
   "metadata": {},
   "source": [
    "### Сравнение моделей"
   ]
  },
  {
   "cell_type": "code",
   "execution_count": 53,
   "id": "263d250f-45fc-4ded-9e2c-cf347264cf78",
   "metadata": {},
   "outputs": [],
   "source": [
    "results = pd.DataFrame({\n",
    "    'Model': ['XGBoost', 'AutoGluon', 'LSTNet'],\n",
    "    'R^2': [xg_r2, ag_r2, lstnet_r2],\n",
    "    'MAE': [xg_mae, ag_mae, lstnet_mae],\n",
    "    'RMSE': [xg_rmse, ag_rmse, lstnet_rmse]\n",
    "})"
   ]
  },
  {
   "cell_type": "code",
   "execution_count": 54,
   "id": "bb6798a2-23fe-4d60-8ab1-63e81558a0b4",
   "metadata": {},
   "outputs": [
    {
     "data": {
      "text/html": [
       "<div>\n",
       "<style scoped>\n",
       "    .dataframe tbody tr th:only-of-type {\n",
       "        vertical-align: middle;\n",
       "    }\n",
       "\n",
       "    .dataframe tbody tr th {\n",
       "        vertical-align: top;\n",
       "    }\n",
       "\n",
       "    .dataframe thead th {\n",
       "        text-align: right;\n",
       "    }\n",
       "</style>\n",
       "<table border=\"1\" class=\"dataframe\">\n",
       "  <thead>\n",
       "    <tr style=\"text-align: right;\">\n",
       "      <th></th>\n",
       "      <th>Model</th>\n",
       "      <th>R^2</th>\n",
       "      <th>MAE</th>\n",
       "      <th>RMSE</th>\n",
       "    </tr>\n",
       "  </thead>\n",
       "  <tbody>\n",
       "    <tr>\n",
       "      <th>0</th>\n",
       "      <td>XGBoost</td>\n",
       "      <td>0.996688</td>\n",
       "      <td>117.360229</td>\n",
       "      <td>167.065378</td>\n",
       "    </tr>\n",
       "    <tr>\n",
       "      <th>1</th>\n",
       "      <td>AutoGluon</td>\n",
       "      <td>0.995826</td>\n",
       "      <td>133.127702</td>\n",
       "      <td>187.536530</td>\n",
       "    </tr>\n",
       "    <tr>\n",
       "      <th>2</th>\n",
       "      <td>LSTNet</td>\n",
       "      <td>0.935628</td>\n",
       "      <td>0.106285</td>\n",
       "      <td>0.266752</td>\n",
       "    </tr>\n",
       "  </tbody>\n",
       "</table>\n",
       "</div>"
      ],
      "text/plain": [
       "       Model       R^2         MAE        RMSE\n",
       "0    XGBoost  0.996688  117.360229  167.065378\n",
       "1  AutoGluon  0.995826  133.127702  187.536530\n",
       "2     LSTNet  0.935628    0.106285    0.266752"
      ]
     },
     "execution_count": 54,
     "metadata": {},
     "output_type": "execute_result"
    }
   ],
   "source": [
    "results"
   ]
  }
 ],
 "metadata": {
  "kernelspec": {
   "display_name": "Python 3 (ipykernel)",
   "language": "python",
   "name": "python3"
  },
  "language_info": {
   "codemirror_mode": {
    "name": "ipython",
    "version": 3
   },
   "file_extension": ".py",
   "mimetype": "text/x-python",
   "name": "python",
   "nbconvert_exporter": "python",
   "pygments_lexer": "ipython3",
   "version": "3.11.7"
  }
 },
 "nbformat": 4,
 "nbformat_minor": 5
}
